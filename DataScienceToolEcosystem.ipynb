{
 "cells": [
  {
   "cell_type": "markdown",
   "id": "7b0990b8-bb8b-4243-b02e-9300da029508",
   "metadata": {},
   "source": [
    "# Data Science Tools and Ecosystem"
   ]
  },
  {
   "cell_type": "markdown",
   "id": "4c649550-5fab-4a63-8e79-6b48e3ad785b",
   "metadata": {},
   "source": [
    "In this notebook, Data Science Tools and Ecosystem are summarized."
   ]
  },
  {
   "cell_type": "markdown",
   "id": "dcaccdb8-1fda-4e92-9017-3c6c33542cd4",
   "metadata": {},
   "source": [
    "**Objectives**\n",
    "* List Popular Languages for Data Science\n",
    "* List commonly used libraries used by Data Scientists\n",
    "* Data Science Tools\n",
    "* Examples of evaluating arithmetic expressions in Python"
   ]
  },
  {
   "cell_type": "markdown",
   "id": "dd722635-658b-4425-bfe3-340e2754054d",
   "metadata": {},
   "source": [
    "Some of the popular languages that Data Scientists use are:\n",
    "1. Python\n",
    "2. R\n",
    "3. SQL\n",
    "4. Julia\n",
    "5. Java\n",
    "6. SAS"
   ]
  },
  {
   "cell_type": "markdown",
   "id": "7a6c8464-53e0-43f3-9d9f-3f3bd0c3544e",
   "metadata": {},
   "source": [
    "Some of the commonly used libraries used by Data Scientists include:\n",
    "1. Pandas\n",
    "2. Numpy\n",
    "3. Scikit learn\n",
    "4. Matploitlib\n",
    "5. Seaborn\n",
    "6. TensorFlow\n",
    "7. Keras\n",
    "8. PyTorch\n",
    "9. NLTK\n",
    "10.Scipy"
   ]
  },
  {
   "cell_type": "markdown",
   "id": "4c7d2e06-5785-427f-b678-133a6e80beae",
   "metadata": {},
   "source": [
    "|Data Science Tools|\n",
    "|------------------|\n",
    "|Jupyter Notebook  |\n",
    "|RStudio           |\n",
    "|Apache Zeppelin   |"
   ]
  },
  {
   "cell_type": "markdown",
   "id": "2c6ce19d-1b3f-4507-b074-bf6c89e31c70",
   "metadata": {},
   "source": [
    "### Below are a few examples of evaluating arithmetic expressions in Python\n",
    "\n",
    "a = 10\n",
    "\n",
    "b = 5\n",
    "\n",
    "print(a + b)  # Addition: 15\n",
    "\n",
    "\n",
    "print(a - b)  # Subtraction: 5\n",
    "\n",
    "\n",
    "print(a * b)  # Multiplication: 50\n",
    "\n",
    "\n",
    "print(a / b)  # Division: 2.0\n",
    "\n",
    "\n",
    "print(a // b) # Floor Division: 2\n",
    "\n",
    "\n",
    "print(a % b)  # Modulus: 0\n",
    "\n",
    "\n",
    "print(a ** b) # Exponentiation: 100000\n"
   ]
  },
  {
   "cell_type": "code",
   "execution_count": 13,
   "id": "684a289b-676d-4e0a-a865-6d4cdc72e284",
   "metadata": {},
   "outputs": [
    {
     "data": {
      "text/plain": [
       "17"
      ]
     },
     "execution_count": 13,
     "metadata": {},
     "output_type": "execute_result"
    }
   ],
   "source": [
    "# This is a simple arithmetic expression to multiply then add integers\n",
    "(3*4)+5"
   ]
  },
  {
   "cell_type": "code",
   "execution_count": 15,
   "id": "b478f416-479f-4cea-9a82-b5a554e0b067",
   "metadata": {},
   "outputs": [
    {
     "data": {
      "text/plain": [
       "3.3333333333333335"
      ]
     },
     "execution_count": 15,
     "metadata": {},
     "output_type": "execute_result"
    }
   ],
   "source": [
    "# This will convert 200 minutes to hours by dividing by 60\n",
    "200/60"
   ]
  },
  {
   "cell_type": "markdown",
   "id": "32e25c36-9c14-41b0-b4dd-5e3268a378ce",
   "metadata": {},
   "source": [
    "## Author\n",
    "Vijeta Singh"
   ]
  },
  {
   "cell_type": "code",
   "execution_count": null,
   "id": "71d500cd-b84a-4940-b388-2c3070719516",
   "metadata": {},
   "outputs": [],
   "source": []
  }
 ],
 "metadata": {
  "kernelspec": {
   "display_name": "Python [conda env:base] *",
   "language": "python",
   "name": "conda-base-py"
  },
  "language_info": {
   "codemirror_mode": {
    "name": "ipython",
    "version": 3
   },
   "file_extension": ".py",
   "mimetype": "text/x-python",
   "name": "python",
   "nbconvert_exporter": "python",
   "pygments_lexer": "ipython3",
   "version": "3.12.7"
  }
 },
 "nbformat": 4,
 "nbformat_minor": 5
}
